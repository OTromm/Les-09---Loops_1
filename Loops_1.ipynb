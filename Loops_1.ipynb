{
 "metadata": {
  "language_info": {
   "codemirror_mode": {
    "name": "ipython",
    "version": 3
   },
   "file_extension": ".py",
   "mimetype": "text/x-python",
   "name": "python",
   "nbconvert_exporter": "python",
   "pygments_lexer": "ipython3",
   "version": "3.9.2"
  },
  "orig_nbformat": 2,
  "kernelspec": {
   "name": "python392jvsc74a57bd089aee6942dff7a18974bb50e1d06d5f53d62a755afa5f3e07738ada7c8d88558",
   "display_name": "Python 3.9.2 64-bit"
  },
  "metadata": {
   "interpreter": {
    "hash": "89aee6942dff7a18974bb50e1d06d5f53d62a755afa5f3e07738ada7c8d88558"
   }
  }
 },
 "nbformat": 4,
 "nbformat_minor": 2,
 "cells": [
  {
   "source": [
    "# Loops\n",
    "---\n",
    "**Heb je hulp nodig? Bekijk dan dit filmpje: ** https://youtu.be/fhmOB9estOA\n",
    "\n",
    "**Voorbeeld opdrachten worden in dit filmpje uitgelegd: ** https://youtu.be/66NZnNDqO9U\n",
    "\n",
    "\n",
    "Als we met lijstjes werken, willen soms iets doen met de waardes in een lijstje. We kunnen elk `element` in een lijstje afgaan, maar dat worden veel regels code en soms weten we niet hoe groot een lijstje is. Hiervoor maken we gebruik van `loops`. De eerste loop waar we naar kijken is de `For-loop`. \n",
    "\n",
    "## For Loop\n",
    "In de `For-loop` gaan we elk element in een lijstje af. Er wordt een enkele `variabelen` aangemaakt die de variabelen van de loop 'vasthoudt' en update. Kijk eens naar het voorbeeld hieronder en voer deze een keer uit:"
   ],
   "cell_type": "markdown",
   "metadata": {}
  },
  {
   "source": [
    "lijstje = [\"aardbei\", \"banaan\", \"kiwi\"]\n",
    "for fruit in lijstje:\n",
    "    print(fruit)"
   ],
   "cell_type": "code",
   "metadata": {},
   "execution_count": null,
   "outputs": []
  },
  {
   "source": [
    "Je kunt zien dat we een lijstje aanmaken met verschillende soorten fruit. Vervolgens maken we een `for-loop` aan. In deze `for-loop` maken we de variabelen `fruit` aan. De `waarde` van deze variabelen komt uit het lijstje. Het eerste `element` in het lijstje, `aardbei`, wordt vervolgens in de variabelen `fruit` gestopt. Vervolgens kunnen wij met deze `variabelen` werken. Momenteel maken we gebruik van `print()` om de waarde uit te printen. Als dit is uitgevoerd, dan wordt het volgende `element` uit het lijstje gepakt en in de variabelen `fruit` gestopt. Deze wordt dan ook uitgeprint. Dit wordt gedaan voor elk `element` in het lijstje."
   ],
   "cell_type": "markdown",
   "metadata": {}
  },
  {
   "source": [
    "## In range\n",
    "We kunnen ook nummers gebruiken in een `for-loop`, hier gebruiken we dan de methode `range()` voor. Deze zetten we in plaats van het lijstje in de `for-loop` en deze geven we 2 cijfers mee. De eerste cijfer geeft aan vanaf welk nummer er geteld moet worden en de tweede geeft aan **tot** (*niet tot en met*) welk nummer er geteld moet worden. De `variabelen` in de `for-loop` wordt vervolgens elke keer met 1 opgeteld en we kunnen met deze waarde gaan werken. Zie het voorbeeld hieronder:"
   ],
   "cell_type": "markdown",
   "metadata": {}
  },
  {
   "cell_type": "code",
   "execution_count": null,
   "metadata": {},
   "outputs": [],
   "source": [
    "for nummer in range(1, 11):\n",
    "    print(nummer)"
   ]
  },
  {
   "source": [
    "## Opdrachten\n",
    "\n",
    "### Voorbeeld opdracht 1:\n",
    "Maak de `for-loop` af zodat alle waardes uit het lijstje uitgeprint worden: (vervang de ? met juiste waardes)"
   ],
   "cell_type": "markdown",
   "metadata": {}
  },
  {
   "cell_type": "code",
   "execution_count": null,
   "metadata": {},
   "outputs": [],
   "source": [
    "lijstje = [\"Sla\", \"Tomaat\", \"Paprika\"]\n",
    "for groente in lijstje:\n",
    "    print(groente)"
   ]
  },
  {
   "source": [
    "*We zien dat de `for-loop` nog niet af is, we moeten kijken hoe onze `variabelen` we gaan noemen waarmee we door het lijstje heen gaan lopen. Als we naar het lijstje kijken zien we dat er alleen groente in het lijstje zitten, dus we noemen onze variabelen `groente`. Vervolgens met we achter de `in` aangeven door welk lijstje we heen gaan lopen, dit is dus `lijstje`. Ten slotte moeten we de naam van onze variabelen in de print zetten, dit is wederom weer `groente`.*"
   ],
   "cell_type": "markdown",
   "metadata": {}
  },
  {
   "cell_type": "code",
   "execution_count": null,
   "metadata": {},
   "outputs": [],
   "source": [
    "lijstje = [\"Sla\", \"Tomaat\", \"Paprika\"]\n",
    "for groente in lijste:\n",
    "    print(groente)"
   ]
  },
  {
   "source": [
    "### Voorbeeld opdracht 2:\n",
    "Maak een `for-loop` die de nummers 1 tot en met 20 uitprint."
   ],
   "cell_type": "markdown",
   "metadata": {}
  },
  {
   "cell_type": "code",
   "execution_count": null,
   "metadata": {},
   "outputs": [],
   "source": [
    "for nummer in range(1, 21):\n",
    "    print(nummer)"
   ]
  },
  {
   "source": [
    "*We beginnen met het schrijven van de `for-loop`. Als variabelen gebruiken we de naam `nummer` omdat we met nummers werken. Vervolgens zetten we achter de `in` de methode `range`. Deze maakt voor ons nummers aan in een reeks die wij aangeven, elk nummer in die reeks wordt dan in onze `nummer` variabelen gestopt. `range` krijgt zelf de waardes `1` en `21` mee. We moeten namelijk alle nummers vanaf 1 tot en met 20 uitprinten, dus we beginnen bij `1` en gaan **tot** `21`.*"
   ],
   "cell_type": "markdown",
   "metadata": {}
  },
  {
   "cell_type": "code",
   "execution_count": null,
   "metadata": {},
   "outputs": [],
   "source": [
    "for nummer in range(1, 21):\n",
    "    print(nummer)"
   ]
  },
  {
   "source": [
    "### Opdracht 1:\n",
    "Maak de `for-loop` af, vervang de ? door de juiste waardes:"
   ],
   "cell_type": "markdown",
   "metadata": {}
  },
  {
   "cell_type": "code",
   "execution_count": null,
   "metadata": {},
   "outputs": [],
   "source": [
    "lijstje = [\"appel\", \"banaan\", \"citroen\"]\n",
    "for ? in ?:\n",
    "    print(?)"
   ]
  },
  {
   "source": [
    "### Opdracht 2:\n",
    "Maak zelf een `for-loop` die het volgende lijstje uitprint:"
   ],
   "cell_type": "markdown",
   "metadata": {}
  },
  {
   "cell_type": "code",
   "execution_count": null,
   "metadata": {},
   "outputs": [],
   "source": [
    "lijstje = [\"piano\", \"keyboard\", \"gitaar\"]\n",
    "\n",
    "\n",
    "\n"
   ]
  },
  {
   "source": [
    "### Opdracht 3:\n",
    "Maak zelf een lijstje en print deze uit met behulp van een `for-loop`."
   ],
   "cell_type": "markdown",
   "metadata": {}
  },
  {
   "cell_type": "code",
   "execution_count": null,
   "metadata": {},
   "outputs": [],
   "source": []
  },
  {
   "source": [
    "### Opdracht 4:\n",
    "Maak de `in range for-loop` af door de ? te vervangen met de juiste waardes. De `for-loop` moet alle getallen **tot en met** 42 uitprinten."
   ],
   "cell_type": "markdown",
   "metadata": {}
  },
  {
   "cell_type": "code",
   "execution_count": null,
   "metadata": {},
   "outputs": [],
   "source": [
    "for nummer in range(?, ?):\n",
    "    print(?)"
   ]
  },
  {
   "source": [
    "### Opdracht 5:\n",
    "Maak nu zelf een `in range for-loop` die alle getallen tot en met 100 uitprint."
   ],
   "cell_type": "markdown",
   "metadata": {}
  },
  {
   "cell_type": "code",
   "execution_count": null,
   "metadata": {},
   "outputs": [],
   "source": []
  },
  {
   "source": [
    "### Extra opdracht 6:\n",
    "Maak een `for-loop` die alle getalleen die deelbaar zijn door 3 uitprint (tot en met 100)."
   ],
   "cell_type": "markdown",
   "metadata": {}
  },
  {
   "cell_type": "code",
   "execution_count": null,
   "metadata": {},
   "outputs": [],
   "source": []
  }
 ]
}